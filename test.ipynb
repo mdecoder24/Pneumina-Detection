{
 "cells": [
  {
   "cell_type": "code",
   "execution_count": null,
   "metadata": {},
   "outputs": [
    {
     "ename": "",
     "evalue": "",
     "output_type": "error",
     "traceback": [
      "\u001b[1;31mRunning cells with '/Users/labess40/miniconda3/bin/python' requires the ipykernel package.\n",
      "\u001b[1;31mRun the following command to install 'ipykernel' into the Python environment. \n",
      "\u001b[1;31mCommand: 'conda install -p /Users/labess40/miniconda3 ipykernel --update-deps --force-reinstall'"
     ]
    }
   ],
   "source": [
    "import numpy as np\n",
    "from transformers import pipeline\n",
    "from PIL import Image\n",
    "from io import BytesIO\n",
    "\n",
    "\n",
    "class Inference():\n",
    "\n",
    "    def __init__(self):\n",
    "\n",
    "        model_name = 'BobCalifornia/v1-vit-pneumonia'\n",
    "        self.model = pipeline(model=model_name, tokenizer=model_name)\n",
    "        self.images = None\n",
    "        print('model : ', self.model)\n",
    "        print('Ready !!!')\n",
    "\n",
    "    def load_single_image(self, bytes):\n",
    "        \"\"\"Load single image with associated bytes\n",
    "\n",
    "        Args:\n",
    "            bytes (List): bytes corresponding to the image\n",
    "\n",
    "        Returns:\n",
    "            img: numpy list corresponding to the loaded image \n",
    "        \"\"\"\n",
    "        print('ici single')\n",
    "        image = BytesIO(bytes)\n",
    "        img = Image.open(image).convert('RGB') \n",
    "        print(img)\n",
    "        return img\n",
    "\n",
    "    def load_multiple_img(self, bytes) :\n",
    "        \"\"\"Load multiple images and set image value with them\n",
    "\n",
    "        Args:\n",
    "            bytes (List[List]): list of bytes corresponding to multiple images\n",
    "        \"\"\"\n",
    "        print('ici multiple')\n",
    "        liste = []\n",
    "        for i in bytes :\n",
    "            img = self.load_single_image(i)\n",
    "            liste.append(img)\n",
    "        self.images = liste\n",
    "\n",
    "    def predict_image(self):\n",
    "        return self.model(self.images)\n"
   ]
  },
  {
   "cell_type": "code",
   "execution_count": null,
   "metadata": {},
   "outputs": [],
   "source": []
  }
 ],
 "metadata": {
  "kernelspec": {
   "display_name": "Python 3",
   "language": "python",
   "name": "python3"
  },
  "language_info": {
   "name": "python",
   "version": "3.10.10"
  },
  "orig_nbformat": 4
 },
 "nbformat": 4,
 "nbformat_minor": 2
}
